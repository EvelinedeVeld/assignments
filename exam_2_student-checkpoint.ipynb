{
 "cells": [
  {
   "cell_type": "markdown",
   "metadata": {},
   "source": [
    "# Exam R\n",
    "Mark Klik & Misja Mikkers\n",
    "\n",
    "# Introduction\n",
    "\n",
    "Before you turn this problem in, make sure everything runs as expected. First, **restart the kernel** (in the menubar, select Kernel$\\rightarrow$Restart) and then **run all cells** (in the menubar, select Cell$\\rightarrow$Run All).\n",
    "\n",
    "Make sure you fill in any place that says `YOUR CODE HERE` or \"YOUR ANSWER HERE\", as well as your name and collaborators below:\n",
    "\n"
   ]
  },
  {
   "cell_type": "code",
   "execution_count": 1,
   "metadata": {},
   "outputs": [],
   "source": [
    "NAME = \"Eveline de Veld #2013523#\""
   ]
  },
  {
   "cell_type": "markdown",
   "metadata": {},
   "source": [
    "Fill in the cell above to provide us with your name and student number, like\n",
    "\n",
    "NAME = \"Adam Smith, #student number#\"\n",
    "\n",
    "where you replace \"#student number#\" with your ... (very good!)\n",
    "\n",
    "Unfortunately, you are not allowed to work with \"COLLABORATORS\" in this exam.\n",
    "\n",
    "## exam September 21th, 2018\n",
    "\n",
    "With this R part of the exam you can earn at max. 4 points.\n",
    "\n",
    "In the first cell of the notebook, give us your name and student number in the way indicated above.\n",
    "\n",
    "Fill in the notebook (see below for code cells and text cells that you need to fill in).\n",
    "\n",
    "If you look at the menus above (File, Edit, View etc.), there is one called \"Cell\". If you click on this, you can change the \"Cell Type\". Choose \"Code\" when you are typing python or R code. Choose \"Markdown\" when you are typing, well, markdown.\n",
    "\n",
    "When you finish the notebook, make sure that you save it with the output of your code included.\n",
    "\n",
    "Then put it on github, e.g. by dragging it onto github (see instructions below).\n",
    "\n",
    "Finally, add a link to your README file with the name of this exam: \"Exam R September 7, 2018\".\n",
    "\n",
    "# Packages\n",
    "\n",
    "You will need the following packages for this exam."
   ]
  },
  {
   "cell_type": "code",
   "execution_count": 54,
   "metadata": {},
   "outputs": [],
   "source": [
    "library(tidyverse)\n"
   ]
  },
  {
   "cell_type": "markdown",
   "metadata": {},
   "source": [
    "# Assignment 1\n",
    "\n",
    "## Data\n",
    "\n",
    "Please read in \"Medicaid.csv\" and check the structure.\n",
    "\n",
    "If needed change the variables Recipients and Total_costs into a numeric variable.\n",
    "\n",
    "Hint: don't forget you cannot change a factor in a numeric variable directly!\n",
    "\n"
   ]
  },
  {
   "cell_type": "code",
   "execution_count": 106,
   "metadata": {},
   "outputs": [
    {
     "data": {
      "text/html": [
       "<table>\n",
       "<thead><tr><th scope=col>Year</th><th scope=col>Recipients</th><th scope=col>Total_costs</th></tr></thead>\n",
       "<tbody>\n",
       "\t<tr><td>2003       </td><td>4267573    </td><td>36142075737</td></tr>\n",
       "\t<tr><td>2004       </td><td>4594667    </td><td>38926018824</td></tr>\n",
       "\t<tr><td>2005       </td><td>4733617    </td><td>40803778540</td></tr>\n",
       "\t<tr><td>2006       </td><td>4730167    </td><td>40712547369</td></tr>\n",
       "\t<tr><td>2007       </td><td>4622782    </td><td>42127412366</td></tr>\n",
       "\t<tr><td>2008       </td><td>4657242    </td><td>44239141758</td></tr>\n",
       "\t<tr><td>2009       </td><td>4911408    </td><td>47021820192</td></tr>\n",
       "\t<tr><td>2010       </td><td>5212444    </td><td>49221108692</td></tr>\n",
       "\t<tr><td>2011       </td><td>5398722    </td><td>49975969554</td></tr>\n",
       "\t<tr><td>2012       </td><td>5598237    </td><td>49734737508</td></tr>\n",
       "\t<tr><td>2013       </td><td>5805282    </td><td>49461002640</td></tr>\n",
       "\t<tr><td>2014       </td><td>6327708    </td><td>52595908896</td></tr>\n",
       "\t<tr><td>2015       </td><td>6700524    </td><td>55647851820</td></tr>\n",
       "</tbody>\n",
       "</table>\n"
      ],
      "text/latex": [
       "\\begin{tabular}{r|lll}\n",
       " Year & Recipients & Total\\_costs\\\\\n",
       "\\hline\n",
       "\t 2003        & 4267573     & 36142075737\\\\\n",
       "\t 2004        & 4594667     & 38926018824\\\\\n",
       "\t 2005        & 4733617     & 40803778540\\\\\n",
       "\t 2006        & 4730167     & 40712547369\\\\\n",
       "\t 2007        & 4622782     & 42127412366\\\\\n",
       "\t 2008        & 4657242     & 44239141758\\\\\n",
       "\t 2009        & 4911408     & 47021820192\\\\\n",
       "\t 2010        & 5212444     & 49221108692\\\\\n",
       "\t 2011        & 5398722     & 49975969554\\\\\n",
       "\t 2012        & 5598237     & 49734737508\\\\\n",
       "\t 2013        & 5805282     & 49461002640\\\\\n",
       "\t 2014        & 6327708     & 52595908896\\\\\n",
       "\t 2015        & 6700524     & 55647851820\\\\\n",
       "\\end{tabular}\n"
      ],
      "text/markdown": [
       "\n",
       "Year | Recipients | Total_costs | \n",
       "|---|---|---|---|---|---|---|---|---|---|---|---|---|\n",
       "| 2003        | 4267573     | 36142075737 | \n",
       "| 2004        | 4594667     | 38926018824 | \n",
       "| 2005        | 4733617     | 40803778540 | \n",
       "| 2006        | 4730167     | 40712547369 | \n",
       "| 2007        | 4622782     | 42127412366 | \n",
       "| 2008        | 4657242     | 44239141758 | \n",
       "| 2009        | 4911408     | 47021820192 | \n",
       "| 2010        | 5212444     | 49221108692 | \n",
       "| 2011        | 5398722     | 49975969554 | \n",
       "| 2012        | 5598237     | 49734737508 | \n",
       "| 2013        | 5805282     | 49461002640 | \n",
       "| 2014        | 6327708     | 52595908896 | \n",
       "| 2015        | 6700524     | 55647851820 | \n",
       "\n",
       "\n"
      ],
      "text/plain": [
       "   Year Recipients Total_costs\n",
       "1  2003 4267573    36142075737\n",
       "2  2004 4594667    38926018824\n",
       "3  2005 4733617    40803778540\n",
       "4  2006 4730167    40712547369\n",
       "5  2007 4622782    42127412366\n",
       "6  2008 4657242    44239141758\n",
       "7  2009 4911408    47021820192\n",
       "8  2010 5212444    49221108692\n",
       "9  2011 5398722    49975969554\n",
       "10 2012 5598237    49734737508\n",
       "11 2013 5805282    49461002640\n",
       "12 2014 6327708    52595908896\n",
       "13 2015 6700524    55647851820"
      ]
     },
     "metadata": {},
     "output_type": "display_data"
    }
   ],
   "source": [
    "Medicaid <- read.csv2(\"../Downloads/Medicaid.csv\")\n",
    "Medicaid"
   ]
  },
  {
   "cell_type": "code",
   "execution_count": 107,
   "metadata": {},
   "outputs": [
    {
     "name": "stdout",
     "output_type": "stream",
     "text": [
      "'data.frame':\t13 obs. of  3 variables:\n",
      " $ Year       : int  2003 2004 2005 2006 2007 2008 2009 2010 2011 2012 ...\n",
      " $ Recipients : int  4267573 4594667 4733617 4730167 4622782 4657242 4911408 5212444 5398722 5598237 ...\n",
      " $ Total_costs: num  3.61e+10 3.89e+10 4.08e+10 4.07e+10 4.21e+10 ...\n"
     ]
    }
   ],
   "source": [
    "str(Medicaid)"
   ]
  },
  {
   "cell_type": "code",
   "execution_count": 108,
   "metadata": {},
   "outputs": [
    {
     "name": "stdout",
     "output_type": "stream",
     "text": [
      "'data.frame':\t13 obs. of  3 variables:\n",
      " $ Year       : int  2003 2004 2005 2006 2007 2008 2009 2010 2011 2012 ...\n",
      " $ Recipients : num  4267573 4594667 4733617 4730167 4622782 ...\n",
      " $ Total_costs: num  3.61e+10 3.89e+10 4.08e+10 4.07e+10 4.21e+10 ...\n"
     ]
    }
   ],
   "source": [
    "Medicaid$Recipients <- as.numeric(as.integer(Medicaid$Recipients))\n",
    "str(Medicaid)"
   ]
  },
  {
   "cell_type": "markdown",
   "metadata": {},
   "source": [
    "First, I read in Medicaid.csv, after that I check the structure by using the code str(). After I did that, I see that Recipients has integer numbers and I have to change that into numeric variables. I do that by using the code Medicaid$Recipients <- as.numeric(as.integer(Medicaid$Recipients)). Now Recipients has numeric variables. "
   ]
  },
  {
   "cell_type": "markdown",
   "metadata": {},
   "source": [
    "\n",
    "\n",
    "## New variable\n",
    "\n",
    "You will now have to make a new variable called \"Cost_per_Recipient\" by dividing the variable \"Total_Costs\" by the variable \"Recipients\". You will have to use the \"pipe-operator\". You have to show the \"head\" of the dataframe."
   ]
  },
  {
   "cell_type": "code",
   "execution_count": 109,
   "metadata": {},
   "outputs": [],
   "source": [
    "Medicaid$Cost_per_Recipients <- (Medicaid$Total_costs/Medicaid$Recipients)\n"
   ]
  },
  {
   "cell_type": "code",
   "execution_count": 110,
   "metadata": {},
   "outputs": [
    {
     "data": {
      "text/html": [
       "<table>\n",
       "<thead><tr><th scope=col>Year</th><th scope=col>Recipients</th><th scope=col>Total_costs</th><th scope=col>Cost_per_Recipients</th></tr></thead>\n",
       "<tbody>\n",
       "\t<tr><td>2003       </td><td>4267573    </td><td>36142075737</td><td>8469       </td></tr>\n",
       "\t<tr><td>2004       </td><td>4594667    </td><td>38926018824</td><td>8472       </td></tr>\n",
       "\t<tr><td>2005       </td><td>4733617    </td><td>40803778540</td><td>8620       </td></tr>\n",
       "\t<tr><td>2006       </td><td>4730167    </td><td>40712547369</td><td>8607       </td></tr>\n",
       "\t<tr><td>2007       </td><td>4622782    </td><td>42127412366</td><td>9113       </td></tr>\n",
       "\t<tr><td>2008       </td><td>4657242    </td><td>44239141758</td><td>9499       </td></tr>\n",
       "</tbody>\n",
       "</table>\n"
      ],
      "text/latex": [
       "\\begin{tabular}{r|llll}\n",
       " Year & Recipients & Total\\_costs & Cost\\_per\\_Recipients\\\\\n",
       "\\hline\n",
       "\t 2003        & 4267573     & 36142075737 & 8469       \\\\\n",
       "\t 2004        & 4594667     & 38926018824 & 8472       \\\\\n",
       "\t 2005        & 4733617     & 40803778540 & 8620       \\\\\n",
       "\t 2006        & 4730167     & 40712547369 & 8607       \\\\\n",
       "\t 2007        & 4622782     & 42127412366 & 9113       \\\\\n",
       "\t 2008        & 4657242     & 44239141758 & 9499       \\\\\n",
       "\\end{tabular}\n"
      ],
      "text/markdown": [
       "\n",
       "Year | Recipients | Total_costs | Cost_per_Recipients | \n",
       "|---|---|---|---|---|---|\n",
       "| 2003        | 4267573     | 36142075737 | 8469        | \n",
       "| 2004        | 4594667     | 38926018824 | 8472        | \n",
       "| 2005        | 4733617     | 40803778540 | 8620        | \n",
       "| 2006        | 4730167     | 40712547369 | 8607        | \n",
       "| 2007        | 4622782     | 42127412366 | 9113        | \n",
       "| 2008        | 4657242     | 44239141758 | 9499        | \n",
       "\n",
       "\n"
      ],
      "text/plain": [
       "  Year Recipients Total_costs Cost_per_Recipients\n",
       "1 2003 4267573    36142075737 8469               \n",
       "2 2004 4594667    38926018824 8472               \n",
       "3 2005 4733617    40803778540 8620               \n",
       "4 2006 4730167    40712547369 8607               \n",
       "5 2007 4622782    42127412366 9113               \n",
       "6 2008 4657242    44239141758 9499               "
      ]
     },
     "metadata": {},
     "output_type": "display_data"
    }
   ],
   "source": [
    "Medicaid <- Medicaid %>%\n",
    "arrange(Year)\n",
    "head(Medicaid)"
   ]
  },
  {
   "cell_type": "markdown",
   "metadata": {},
   "source": [
    "First I make a new variable by using the code Medicaid$Cost_per_Recipients <- (Medicaid$Total_costs/Medicaid$Recipients). \n",
    "When I want to show the head of the dataframe, it isn't in the right order, so I arrange it by Year by using the code Medicaid <- Medicaid %>%\n",
    "arrange(Year)\n",
    "head(Medicaid). In this part I make use of the 'pipe-operator'. Now it is in the right order. "
   ]
  },
  {
   "cell_type": "markdown",
   "metadata": {},
   "source": [
    "## Plot 1\n",
    "\n",
    "Now you have to make a line plot of the data:\n",
    "\n",
    "* with Year on the x-axis\n",
    "* Cost_per_Recipient on the y-axis\n",
    "* The line should have size 3 and the color \"red\"\n",
    "* The name on the Y axis should be \"Cost per enrollee\"\n",
    "\n",
    "\n"
   ]
  },
  {
   "cell_type": "code",
   "execution_count": 111,
   "metadata": {},
   "outputs": [
    {
     "data": {},
     "metadata": {},
     "output_type": "display_data"
    },
    {
     "data": {
      "image/png": "[encoded data removed]",
      "text/plain": [
       "plot without title"
      ]
     },
     "metadata": {},
     "output_type": "display_data"
    }
   ],
   "source": [
    "ggplot(Medicaid, aes(x = Year, y = Cost_per_Recipient)) + theme_classic() + geom_line(color = 'red', size = 3) + ylab('Cost per enrollee') + xlab('Year')\n"
   ]
  },
  {
   "cell_type": "markdown",
   "metadata": {},
   "source": [
    "First I use the code ggplot, then I give the dataframe, than the variable I want on the x axis and then the variable I want on the y axis. After that I give it a classic theme, because I think that looks more proffesional. Afther that, I say it is a line, with color red and size 3. And afterwards I give the x axis and the y axis a name. "
   ]
  },
  {
   "cell_type": "markdown",
   "metadata": {},
   "source": [
    "End of notebook"
   ]
  }
 ],
 "metadata": {
  "anaconda-cloud": {},
  "kernelspec": {
   "display_name": "R",
   "language": "R",
   "name": "ir"
  },
  "language_info": {
   "codemirror_mode": "r",
   "file_extension": ".r",
   "mimetype": "text/x-r-source",
   "name": "R",
   "pygments_lexer": "r",
   "version": "3.4.3"
  }
 },
 "nbformat": 4,
 "nbformat_minor": 1
}
