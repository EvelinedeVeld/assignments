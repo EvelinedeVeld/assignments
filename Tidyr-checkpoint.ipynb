{
 "cells": [
  {
   "cell_type": "markdown",
   "metadata": {},
   "source": [
    "# From wide to long and vice versa\n",
    "\n",
    "Mark Klik & Misja Mikkers\n",
    "\n",
    "# Packages\n"
   ]
  },
  {
   "cell_type": "code",
   "execution_count": 1,
   "metadata": {},
   "outputs": [
    {
     "name": "stderr",
     "output_type": "stream",
     "text": [
      "-- Attaching packages --------------------------------------- tidyverse 1.2.1 --\n",
      "v ggplot2 2.2.1     v purrr   0.2.4\n",
      "v tibble  1.4.1     v dplyr   0.7.4\n",
      "v tidyr   0.7.2     v stringr 1.2.0\n",
      "v readr   1.1.1     v forcats 0.2.0\n",
      "-- Conflicts ------------------------------------------ tidyverse_conflicts() --\n",
      "x dplyr::filter() masks stats::filter()\n",
      "x dplyr::lag()    masks stats::lag()\n"
     ]
    }
   ],
   "source": [
    "library(tidyverse)"
   ]
  },
  {
   "cell_type": "markdown",
   "metadata": {},
   "source": [
    "# Introduction\n",
    "\n",
    "A dataset often looks like:"
   ]
  },
  {
   "cell_type": "code",
   "execution_count": 2,
   "metadata": {},
   "outputs": [
    {
     "data": {
      "text/html": [
       "<table>\n",
       "<thead><tr><th scope=col>ID</th><th scope=col>Year_1</th><th scope=col>Year_2</th><th scope=col>Year_3</th><th scope=col>Year_4</th></tr></thead>\n",
       "<tbody>\n",
       "\t<tr><td>1</td><td>a</td><td>b</td><td>c</td><td>d</td></tr>\n",
       "\t<tr><td>2</td><td>e</td><td>f</td><td>g</td><td>h</td></tr>\n",
       "\t<tr><td>3</td><td>i</td><td>j</td><td>k</td><td>l</td></tr>\n",
       "</tbody>\n",
       "</table>\n"
      ],
      "text/latex": [
       "\\begin{tabular}{r|lllll}\n",
       " ID & Year\\_1 & Year\\_2 & Year\\_3 & Year\\_4\\\\\n",
       "\\hline\n",
       "\t 1 & a & b & c & d\\\\\n",
       "\t 2 & e & f & g & h\\\\\n",
       "\t 3 & i & j & k & l\\\\\n",
       "\\end{tabular}\n"
      ],
      "text/markdown": [
       "\n",
       "ID | Year_1 | Year_2 | Year_3 | Year_4 | \n",
       "|---|---|---|\n",
       "| 1 | a | b | c | d | \n",
       "| 2 | e | f | g | h | \n",
       "| 3 | i | j | k | l | \n",
       "\n",
       "\n"
      ],
      "text/plain": [
       "  ID Year_1 Year_2 Year_3 Year_4\n",
       "1 1  a      b      c      d     \n",
       "2 2  e      f      g      h     \n",
       "3 3  i      j      k      l     "
      ]
     },
     "metadata": {},
     "output_type": "display_data"
    }
   ],
   "source": [
    "data1 <- data.frame(\n",
    "  ID= c(1,2,3),\n",
    "  Year_1 = c(\"a\",\"e\",\"i\"),\n",
    "  Year_2 = c(\"b\", \"f\", \"j\"),\n",
    "  Year_3 = c(\"c\", \"g\", \"k\"),\n",
    "  Year_4 = c(\"d\", \"h\", \"l\"), stringsAsFactors = FALSE)\n",
    "data1"
   ]
  },
  {
   "cell_type": "markdown",
   "metadata": {},
   "source": [
    "But often we need the data to look like this:"
   ]
  },
  {
   "cell_type": "code",
   "execution_count": 3,
   "metadata": {},
   "outputs": [
    {
     "data": {
      "text/html": [
       "<table>\n",
       "<thead><tr><th scope=col>ID</th><th scope=col>Year</th><th scope=col>Value</th></tr></thead>\n",
       "<tbody>\n",
       "\t<tr><td>1     </td><td>Year_1</td><td>a     </td></tr>\n",
       "\t<tr><td>1     </td><td>Year_2</td><td>b     </td></tr>\n",
       "\t<tr><td>1     </td><td>Year_3</td><td>c     </td></tr>\n",
       "\t<tr><td>1     </td><td>Year_4</td><td>d     </td></tr>\n",
       "\t<tr><td>2     </td><td>Year_1</td><td>e     </td></tr>\n",
       "\t<tr><td>2     </td><td>Year_2</td><td>f     </td></tr>\n",
       "\t<tr><td>2     </td><td>Year_3</td><td>g     </td></tr>\n",
       "\t<tr><td>2     </td><td>Year_4</td><td>h     </td></tr>\n",
       "\t<tr><td>3     </td><td>Year_1</td><td>i     </td></tr>\n",
       "\t<tr><td>3     </td><td>Year_2</td><td>j     </td></tr>\n",
       "\t<tr><td>3     </td><td>Year_3</td><td>k     </td></tr>\n",
       "\t<tr><td>3     </td><td>Year_4</td><td>l     </td></tr>\n",
       "</tbody>\n",
       "</table>\n"
      ],
      "text/latex": [
       "\\begin{tabular}{r|lll}\n",
       " ID & Year & Value\\\\\n",
       "\\hline\n",
       "\t 1        & Year\\_1 & a       \\\\\n",
       "\t 1        & Year\\_2 & b       \\\\\n",
       "\t 1        & Year\\_3 & c       \\\\\n",
       "\t 1        & Year\\_4 & d       \\\\\n",
       "\t 2        & Year\\_1 & e       \\\\\n",
       "\t 2        & Year\\_2 & f       \\\\\n",
       "\t 2        & Year\\_3 & g       \\\\\n",
       "\t 2        & Year\\_4 & h       \\\\\n",
       "\t 3        & Year\\_1 & i       \\\\\n",
       "\t 3        & Year\\_2 & j       \\\\\n",
       "\t 3        & Year\\_3 & k       \\\\\n",
       "\t 3        & Year\\_4 & l       \\\\\n",
       "\\end{tabular}\n"
      ],
      "text/markdown": [
       "\n",
       "ID | Year | Value | \n",
       "|---|---|---|---|---|---|---|---|---|---|---|---|\n",
       "| 1      | Year_1 | a      | \n",
       "| 1      | Year_2 | b      | \n",
       "| 1      | Year_3 | c      | \n",
       "| 1      | Year_4 | d      | \n",
       "| 2      | Year_1 | e      | \n",
       "| 2      | Year_2 | f      | \n",
       "| 2      | Year_3 | g      | \n",
       "| 2      | Year_4 | h      | \n",
       "| 3      | Year_1 | i      | \n",
       "| 3      | Year_2 | j      | \n",
       "| 3      | Year_3 | k      | \n",
       "| 3      | Year_4 | l      | \n",
       "\n",
       "\n"
      ],
      "text/plain": [
       "   ID Year   Value\n",
       "1  1  Year_1 a    \n",
       "2  1  Year_2 b    \n",
       "3  1  Year_3 c    \n",
       "4  1  Year_4 d    \n",
       "5  2  Year_1 e    \n",
       "6  2  Year_2 f    \n",
       "7  2  Year_3 g    \n",
       "8  2  Year_4 h    \n",
       "9  3  Year_1 i    \n",
       "10 3  Year_2 j    \n",
       "11 3  Year_3 k    \n",
       "12 3  Year_4 l    "
      ]
     },
     "metadata": {},
     "output_type": "display_data"
    }
   ],
   "source": [
    "data1a <-gather(data1, Year, Value, Year_1:Year_4) %>%\n",
    "    arrange(ID)\n",
    "data1a"
   ]
  },
  {
   "cell_type": "markdown",
   "metadata": {},
   "source": [
    "For the creation of figures, you often need a long format. In this notebook you will learn how to change dataframes from wide to long and vice versa."
   ]
  },
  {
   "cell_type": "markdown",
   "metadata": {},
   "source": [
    "# Example\n",
    "\n",
    "## Dataframe\n",
    "\n",
    "First, we create a wide dataframe:\n"
   ]
  },
  {
   "cell_type": "code",
   "execution_count": 4,
   "metadata": {},
   "outputs": [
    {
     "data": {
      "text/html": [
       "<table>\n",
       "<thead><tr><th scope=col>ID</th><th scope=col>Year_1</th><th scope=col>Year_2</th><th scope=col>Year_3</th><th scope=col>Year_4</th></tr></thead>\n",
       "<tbody>\n",
       "\t<tr><td>1</td><td>a</td><td>b</td><td>c</td><td>d</td></tr>\n",
       "\t<tr><td>2</td><td>e</td><td>f</td><td>g</td><td>h</td></tr>\n",
       "\t<tr><td>3</td><td>i</td><td>j</td><td>k</td><td>l</td></tr>\n",
       "</tbody>\n",
       "</table>\n"
      ],
      "text/latex": [
       "\\begin{tabular}{r|lllll}\n",
       " ID & Year\\_1 & Year\\_2 & Year\\_3 & Year\\_4\\\\\n",
       "\\hline\n",
       "\t 1 & a & b & c & d\\\\\n",
       "\t 2 & e & f & g & h\\\\\n",
       "\t 3 & i & j & k & l\\\\\n",
       "\\end{tabular}\n"
      ],
      "text/markdown": [
       "\n",
       "ID | Year_1 | Year_2 | Year_3 | Year_4 | \n",
       "|---|---|---|\n",
       "| 1 | a | b | c | d | \n",
       "| 2 | e | f | g | h | \n",
       "| 3 | i | j | k | l | \n",
       "\n",
       "\n"
      ],
      "text/plain": [
       "  ID Year_1 Year_2 Year_3 Year_4\n",
       "1 1  a      b      c      d     \n",
       "2 2  e      f      g      h     \n",
       "3 3  i      j      k      l     "
      ]
     },
     "metadata": {},
     "output_type": "display_data"
    }
   ],
   "source": [
    "data1 <- data.frame(\n",
    "  ID= c(1,2,3),\n",
    "  Year_1 = c(\"a\",\"e\",\"i\"),\n",
    "  Year_2 = c(\"b\", \"f\", \"j\"),\n",
    "  Year_3 = c(\"c\", \"g\", \"k\"),\n",
    "  Year_4 = c(\"d\", \"h\", \"l\"),\n",
    "  stringsAsFactors = FALSE)\n",
    "data1\n"
   ]
  },
  {
   "cell_type": "markdown",
   "metadata": {},
   "source": [
    "## From _wide_ to _long_\n",
    "\n",
    "If we want to change the format from _wide_ to _long_ , we want to use the function `gather()` with the following syntax:\n",
    "\n",
    "\n",
    "`gather(data, key = \"key\", value = \"value\", ...,)`\n",
    "\n",
    "\n",
    "The parameter _key_ represents the name of that you want to give to the _key-column_ . (In our example we want to call this column  _Year_). For the parameter _value_ you choose the name for the _value-column_ (in our example _Value_). For the dots you need the fill in the columns that contain a  _value_  (in our case _Year_1_ until _Year_4_).\n",
    "\n",
    "The command works like this:\n"
   ]
  },
  {
   "cell_type": "code",
   "execution_count": 5,
   "metadata": {},
   "outputs": [
    {
     "name": "stdout",
     "output_type": "stream",
     "text": [
      "   ID   Year Value\n",
      "1   1 Year_1     a\n",
      "2   2 Year_1     e\n",
      "3   3 Year_1     i\n",
      "4   1 Year_2     b\n",
      "5   2 Year_2     f\n",
      "6   3 Year_2     j\n",
      "7   1 Year_3     c\n",
      "8   2 Year_3     g\n",
      "9   3 Year_3     k\n",
      "10  1 Year_4     d\n",
      "11  2 Year_4     h\n",
      "12  3 Year_4     l\n"
     ]
    }
   ],
   "source": [
    "data2 <- data1 %>%\n",
    "  gather(Year, Value, Year_1:Year_4)\n",
    "print(data2)"
   ]
  },
  {
   "cell_type": "markdown",
   "metadata": {},
   "source": [
    "We can sort the dataframe on ID.\n"
   ]
  },
  {
   "cell_type": "code",
   "execution_count": 6,
   "metadata": {},
   "outputs": [
    {
     "name": "stdout",
     "output_type": "stream",
     "text": [
      "   ID   Year Value\n",
      "1   1 Year_1     a\n",
      "2   1 Year_2     b\n",
      "3   1 Year_3     c\n",
      "4   1 Year_4     d\n",
      "5   2 Year_1     e\n",
      "6   2 Year_2     f\n",
      "7   2 Year_3     g\n",
      "8   2 Year_4     h\n",
      "9   3 Year_1     i\n",
      "10  3 Year_2     j\n",
      "11  3 Year_3     k\n",
      "12  3 Year_4     l\n"
     ]
    }
   ],
   "source": [
    "data2 <- data2 %>%\n",
    "  arrange(ID)\n",
    "print(data2)"
   ]
  },
  {
   "cell_type": "markdown",
   "metadata": {},
   "source": [
    "## From _long_ to _wide_\n",
    "\n",
    "We can reverse the process with the function `spread()`. This function has the following syntax:\n",
    "\n",
    "`spread(data, key, value, ...)`\n",
    "\n",
    "The parameter _key_ is the name of the column that contains the values to be spreaded (in our example _Year_). The parameter _value_ is the name of the column with _values_."
   ]
  },
  {
   "cell_type": "code",
   "execution_count": 7,
   "metadata": {},
   "outputs": [
    {
     "name": "stdout",
     "output_type": "stream",
     "text": [
      "  ID Year_1 Year_2 Year_3 Year_4\n",
      "1  1      a      b      c      d\n",
      "2  2      e      f      g      h\n",
      "3  3      i      j      k      l\n"
     ]
    }
   ],
   "source": [
    "data3 <- data2 %>%\n",
    "  spread(Year, Value)\n",
    "print(data3)"
   ]
  },
  {
   "cell_type": "markdown",
   "metadata": {},
   "source": [
    "With this function you achieve the opposite of `gather()`:"
   ]
  },
  {
   "cell_type": "code",
   "execution_count": 8,
   "metadata": {},
   "outputs": [
    {
     "data": {
      "text/html": [
       "<table>\n",
       "<thead><tr><th></th><th scope=col>ID</th><th scope=col>Year_1</th><th scope=col>Year_2</th><th scope=col>Year_3</th><th scope=col>Year_4</th></tr></thead>\n",
       "<tbody>\n",
       "\t<tr><th scope=row>1</th><td>TRUE</td><td>TRUE</td><td>TRUE</td><td>TRUE</td><td>TRUE</td></tr>\n",
       "\t<tr><th scope=row>2</th><td>TRUE</td><td>TRUE</td><td>TRUE</td><td>TRUE</td><td>TRUE</td></tr>\n",
       "\t<tr><th scope=row>3</th><td>TRUE</td><td>TRUE</td><td>TRUE</td><td>TRUE</td><td>TRUE</td></tr>\n",
       "</tbody>\n",
       "</table>\n"
      ],
      "text/latex": [
       "\\begin{tabular}{r|lllll}\n",
       "  & ID & Year\\_1 & Year\\_2 & Year\\_3 & Year\\_4\\\\\n",
       "\\hline\n",
       "\t1 & TRUE & TRUE & TRUE & TRUE & TRUE\\\\\n",
       "\t2 & TRUE & TRUE & TRUE & TRUE & TRUE\\\\\n",
       "\t3 & TRUE & TRUE & TRUE & TRUE & TRUE\\\\\n",
       "\\end{tabular}\n"
      ],
      "text/markdown": [
       "\n",
       "| <!--/--> | ID | Year_1 | Year_2 | Year_3 | Year_4 | \n",
       "|---|---|---|\n",
       "| 1 | TRUE | TRUE | TRUE | TRUE | TRUE | \n",
       "| 2 | TRUE | TRUE | TRUE | TRUE | TRUE | \n",
       "| 3 | TRUE | TRUE | TRUE | TRUE | TRUE | \n",
       "\n",
       "\n"
      ],
      "text/plain": [
       "  ID   Year_1 Year_2 Year_3 Year_4\n",
       "1 TRUE TRUE   TRUE   TRUE   TRUE  \n",
       "2 TRUE TRUE   TRUE   TRUE   TRUE  \n",
       "3 TRUE TRUE   TRUE   TRUE   TRUE  "
      ]
     },
     "metadata": {},
     "output_type": "display_data"
    }
   ],
   "source": [
    "dataTest <- data1 %>%\n",
    "  gather(Year, Value, Year_1:Year_4) %>%\n",
    "  spread(Year, Value)\n",
    "\n",
    "dataTest == data1"
   ]
  },
  {
   "cell_type": "markdown",
   "metadata": {},
   "source": [
    "# Assignment\n",
    "\n",
    "1. Read the file _groei.csv_ . Please note: because the _csv_ file containts numbers in the column names, R will put an X in front of the column names. Because we don't want the X, you need to add the command `check.names = FALSE`. Then the command will look something like this: `read.csv2(\"../Sourcedata/your_file_name.csv\", check.names = FALSE)`\n",
    "2.  Change the file to a _long_ format. Please note that you can't use numbers as column names in the function `gather()`, because R would think e.g. 2002 is column 2002. How to solve this?"
   ]
  },
  {
   "cell_type": "code",
   "execution_count": 18,
   "metadata": {},
   "outputs": [
    {
     "data": {
      "text/html": [
       "<table>\n",
       "<thead><tr><th scope=col>Country</th><th scope=col>2006</th><th scope=col>2007</th><th scope=col>2008</th><th scope=col>2009</th><th scope=col>2010</th><th scope=col>2011</th><th scope=col>2012</th><th scope=col>2013</th><th scope=col>2014</th><th scope=col>2015</th><th scope=col>2016</th></tr></thead>\n",
       "<tbody>\n",
       "\t<tr><td>Belgium       </td><td>0.7           </td><td>3.0           </td><td>4.3           </td><td>4.5           </td><td> 0.2          </td><td>2.0           </td><td>0.4           </td><td> 1.2          </td><td>1.7           </td><td> 1.7          </td><td>0.0           </td></tr>\n",
       "\t<tr><td>France        </td><td>0.3           </td><td>0.9           </td><td>1.1           </td><td>3.3           </td><td> 0.6          </td><td>1.7           </td><td>0.7           </td><td> 1.0          </td><td>1.7           </td><td> 0.2          </td><td>0.2           </td></tr>\n",
       "\t<tr><td>Germany       </td><td>2.4           </td><td>2.0           </td><td>3.4           </td><td>3.9           </td><td> 3.1          </td><td>1.0           </td><td>0.8           </td><td> 1.7          </td><td>1.9           </td><td> 1.8          </td><td>2.3           </td></tr>\n",
       "\t<tr><td>Netherlands   </td><td>2.4           </td><td>4.1           </td><td>4.3           </td><td>3.0           </td><td> 2.5          </td><td>2.3           </td><td>2.2           </td><td>-0.5          </td><td>0.7           </td><td>-0.1          </td><td>0.1           </td></tr>\n",
       "\t<tr><td>Sweden        </td><td>2.6           </td><td>1.5           </td><td>1.6           </td><td>1.2           </td><td>-0.3          </td><td> NA           </td><td>1.4           </td><td> 1.9          </td><td>2.0           </td><td> 1.8          </td><td>2.7           </td></tr>\n",
       "\t<tr><td>United Kingdom</td><td>3.8           </td><td>3.2           </td><td>1.9           </td><td>5.2           </td><td> 0.3          </td><td>0.1           </td><td>0.8           </td><td>  NA          </td><td>1.7           </td><td> 2.2          </td><td>0.1           </td></tr>\n",
       "</tbody>\n",
       "</table>\n"
      ],
      "text/latex": [
       "\\begin{tabular}{r|llllllllllll}\n",
       " Country & 2006 & 2007 & 2008 & 2009 & 2010 & 2011 & 2012 & 2013 & 2014 & 2015 & 2016\\\\\n",
       "\\hline\n",
       "\t Belgium        & 0.7            & 3.0            & 4.3            & 4.5            &  0.2           & 2.0            & 0.4            &  1.2           & 1.7            &  1.7           & 0.0           \\\\\n",
       "\t France         & 0.3            & 0.9            & 1.1            & 3.3            &  0.6           & 1.7            & 0.7            &  1.0           & 1.7            &  0.2           & 0.2           \\\\\n",
       "\t Germany        & 2.4            & 2.0            & 3.4            & 3.9            &  3.1           & 1.0            & 0.8            &  1.7           & 1.9            &  1.8           & 2.3           \\\\\n",
       "\t Netherlands    & 2.4            & 4.1            & 4.3            & 3.0            &  2.5           & 2.3            & 2.2            & -0.5           & 0.7            & -0.1           & 0.1           \\\\\n",
       "\t Sweden         & 2.6            & 1.5            & 1.6            & 1.2            & -0.3           &  NA            & 1.4            &  1.9           & 2.0            &  1.8           & 2.7           \\\\\n",
       "\t United Kingdom & 3.8            & 3.2            & 1.9            & 5.2            &  0.3           & 0.1            & 0.8            &   NA           & 1.7            &  2.2           & 0.1           \\\\\n",
       "\\end{tabular}\n"
      ],
      "text/markdown": [
       "\n",
       "Country | 2006 | 2007 | 2008 | 2009 | 2010 | 2011 | 2012 | 2013 | 2014 | 2015 | 2016 | \n",
       "|---|---|---|---|---|---|\n",
       "| Belgium        | 0.7            | 3.0            | 4.3            | 4.5            |  0.2           | 2.0            | 0.4            |  1.2           | 1.7            |  1.7           | 0.0            | \n",
       "| France         | 0.3            | 0.9            | 1.1            | 3.3            |  0.6           | 1.7            | 0.7            |  1.0           | 1.7            |  0.2           | 0.2            | \n",
       "| Germany        | 2.4            | 2.0            | 3.4            | 3.9            |  3.1           | 1.0            | 0.8            |  1.7           | 1.9            |  1.8           | 2.3            | \n",
       "| Netherlands    | 2.4            | 4.1            | 4.3            | 3.0            |  2.5           | 2.3            | 2.2            | -0.5           | 0.7            | -0.1           | 0.1            | \n",
       "| Sweden         | 2.6            | 1.5            | 1.6            | 1.2            | -0.3           |  NA            | 1.4            |  1.9           | 2.0            |  1.8           | 2.7            | \n",
       "| United Kingdom | 3.8            | 3.2            | 1.9            | 5.2            |  0.3           | 0.1            | 0.8            |   NA           | 1.7            |  2.2           | 0.1            | \n",
       "\n",
       "\n"
      ],
      "text/plain": [
       "  Country        2006 2007 2008 2009 2010 2011 2012 2013 2014 2015 2016\n",
       "1 Belgium        0.7  3.0  4.3  4.5   0.2 2.0  0.4   1.2 1.7   1.7 0.0 \n",
       "2 France         0.3  0.9  1.1  3.3   0.6 1.7  0.7   1.0 1.7   0.2 0.2 \n",
       "3 Germany        2.4  2.0  3.4  3.9   3.1 1.0  0.8   1.7 1.9   1.8 2.3 \n",
       "4 Netherlands    2.4  4.1  4.3  3.0   2.5 2.3  2.2  -0.5 0.7  -0.1 0.1 \n",
       "5 Sweden         2.6  1.5  1.6  1.2  -0.3  NA  1.4   1.9 2.0   1.8 2.7 \n",
       "6 United Kingdom 3.8  3.2  1.9  5.2   0.3 0.1  0.8    NA 1.7   2.2 0.1 "
      ]
     },
     "metadata": {},
     "output_type": "display_data"
    },
    {
     "data": {
      "text/html": [
       "<table>\n",
       "<thead><tr><th scope=col>Country</th><th scope=col>Country</th><th scope=col>Value</th></tr></thead>\n",
       "<tbody>\n",
       "\t<tr><td>Belgium       </td><td>2006          </td><td>0.7           </td></tr>\n",
       "\t<tr><td>France        </td><td>2006          </td><td>0.3           </td></tr>\n",
       "\t<tr><td>Germany       </td><td>2006          </td><td>2.4           </td></tr>\n",
       "\t<tr><td>Netherlands   </td><td>2006          </td><td>2.4           </td></tr>\n",
       "\t<tr><td>Sweden        </td><td>2006          </td><td>2.6           </td></tr>\n",
       "\t<tr><td>United Kingdom</td><td>2006          </td><td>3.8           </td></tr>\n",
       "</tbody>\n",
       "</table>\n"
      ],
      "text/latex": [
       "\\begin{tabular}{r|lll}\n",
       " Country & Country & Value\\\\\n",
       "\\hline\n",
       "\t Belgium        & 2006           & 0.7           \\\\\n",
       "\t France         & 2006           & 0.3           \\\\\n",
       "\t Germany        & 2006           & 2.4           \\\\\n",
       "\t Netherlands    & 2006           & 2.4           \\\\\n",
       "\t Sweden         & 2006           & 2.6           \\\\\n",
       "\t United Kingdom & 2006           & 3.8           \\\\\n",
       "\\end{tabular}\n"
      ],
      "text/markdown": [
       "\n",
       "Country | Country | Value | \n",
       "|---|---|---|---|---|---|\n",
       "| Belgium        | 2006           | 0.7            | \n",
       "| France         | 2006           | 0.3            | \n",
       "| Germany        | 2006           | 2.4            | \n",
       "| Netherlands    | 2006           | 2.4            | \n",
       "| Sweden         | 2006           | 2.6            | \n",
       "| United Kingdom | 2006           | 3.8            | \n",
       "\n",
       "\n"
      ],
      "text/plain": [
       "  Country        Country Value\n",
       "1 Belgium        2006    0.7  \n",
       "2 France         2006    0.3  \n",
       "3 Germany        2006    2.4  \n",
       "4 Netherlands    2006    2.4  \n",
       "5 Sweden         2006    2.6  \n",
       "6 United Kingdom 2006    3.8  "
      ]
     },
     "metadata": {},
     "output_type": "display_data"
    }
   ],
   "source": [
    "oecd1 <- read.csv2(\"../Downloads/growth.csv\", check.names = FALSE)\n",
    "  \n",
    "head(oecd1)\n",
    "oecd2 <- oecd1 %>%\n",
    "    gather(Country, Value)\n",
    "  \n",
    "\n",
    "head(oecd2)"
   ]
  },
  {
   "cell_type": "markdown",
   "metadata": {},
   "source": [
    "You can check whether the 2 methods deliver the same results with:\n",
    "\n"
   ]
  },
  {
   "cell_type": "code",
   "execution_count": 21,
   "metadata": {},
   "outputs": [
    {
     "ename": "ERROR",
     "evalue": "Error in FUN(X[[i]], ...): only defined on a data frame with all numeric variables\n",
     "output_type": "error",
     "traceback": [
      "Error in FUN(X[[i]], ...): only defined on a data frame with all numeric variables\nTraceback:\n",
      "1. Summary.data.frame(structure(list(Country = structure(1:7, .Label = c(\"Belgium\", \n . \"France\", \"Germany\", \"Netherlands \", \"Sweden\", \"United Kingdom\", \n . \"United States\"), class = \"factor\"), `2006` = c(0.7, 0.3, 2.4, \n . 2.4, 2.6, 3.8, 2.5), `2007` = c(3, 0.9, 2, 4.1, 1.5, 3.2, 2.5\n . ), `2008` = c(4.3, 1.1, 3.4, 4.3, 1.6, 1.9, 1.4), `2009` = c(4.5, \n . 3.3, 3.9, 3, 1.2, 5.2, 3), `2010` = c(0.2, 0.6, 3.1, 2.5, -0.3, \n . 0.3, 2), `2011` = c(2, 1.7, 1, 2.3, NA, 0.1, 0.6), `2012` = c(0.4, \n . 0.7, 0.8, 2.2, 1.4, 0.8, 1.4), `2013` = c(1.2, 1, 1.7, -0.5, \n . 1.9, NA, 0.8), `2014` = c(1.7, 1.7, 1.9, 0.7, 2, 1.7, 3), `2015` = c(1.7, \n . 0.2, 1.8, -0.1, 1.8, 2.2, 4.1), `2016` = c(0, 0.2, 2.3, 0.1, \n . 2.7, 0.1, 2.7)), .Names = c(\"Country\", \"2006\", \"2007\", \"2008\", \n . \"2009\", \"2010\", \"2011\", \"2012\", \"2013\", \"2014\", \"2015\", \"2016\"\n . ), class = \"data.frame\", row.names = c(NA, -7L)), structure(list(\n .     Country = structure(c(1L, 2L, 3L, 4L, 5L, 6L, 7L, 1L, 2L, \n .     3L, 4L, 5L, 6L, 7L, 1L, 2L, 3L, 4L, 5L, 6L, 7L, 1L, 2L, 3L, \n .     4L, 5L, 6L, 7L, 1L, 2L, 3L, 4L, 5L, 6L, 7L, 1L, 2L, 3L, 4L, \n .     5L, 6L, 7L, 1L, 2L, 3L, 4L, 5L, 6L, 7L, 1L, 2L, 3L, 4L, 5L, \n .     6L, 7L, 1L, 2L, 3L, 4L, 5L, 6L, 7L, 1L, 2L, 3L, 4L, 5L, 6L, \n .     7L, 1L, 2L, 3L, 4L, 5L, 6L, 7L), .Label = c(\"Belgium\", \"France\", \n .     \"Germany\", \"Netherlands \", \"Sweden\", \"United Kingdom\", \"United States\"\n .     ), class = \"factor\"), Country = c(\"2006\", \"2006\", \"2006\", \n .     \"2006\", \"2006\", \"2006\", \"2006\", \"2007\", \"2007\", \"2007\", \"2007\", \n .     \"2007\", \"2007\", \"2007\", \"2008\", \"2008\", \"2008\", \"2008\", \"2008\", \n .     \"2008\", \"2008\", \"2009\", \"2009\", \"2009\", \"2009\", \"2009\", \"2009\", \n .     \"2009\", \"2010\", \"2010\", \"2010\", \"2010\", \"2010\", \"2010\", \"2010\", \n .     \"2011\", \"2011\", \"2011\", \"2011\", \"2011\", \"2011\", \"2011\", \"2012\", \n .     \"2012\", \"2012\", \"2012\", \"2012\", \"2012\", \"2012\", \"2013\", \"2013\", \n .     \"2013\", \"2013\", \"2013\", \"2013\", \"2013\", \"2014\", \"2014\", \"2014\", \n .     \"2014\", \"2014\", \"2014\", \"2014\", \"2015\", \"2015\", \"2015\", \"2015\", \n .     \"2015\", \"2015\", \"2015\", \"2016\", \"2016\", \"2016\", \"2016\", \"2016\", \n .     \"2016\", \"2016\"), Value = c(0.7, 0.3, 2.4, 2.4, 2.6, 3.8, \n .     2.5, 3, 0.9, 2, 4.1, 1.5, 3.2, 2.5, 4.3, 1.1, 3.4, 4.3, 1.6, \n .     1.9, 1.4, 4.5, 3.3, 3.9, 3, 1.2, 5.2, 3, 0.2, 0.6, 3.1, 2.5, \n .     -0.3, 0.3, 2, 2, 1.7, 1, 2.3, NA, 0.1, 0.6, 0.4, 0.7, 0.8, \n .     2.2, 1.4, 0.8, 1.4, 1.2, 1, 1.7, -0.5, 1.9, NA, 0.8, 1.7, \n .     1.7, 1.9, 0.7, 2, 1.7, 3, 1.7, 0.2, 1.8, -0.1, 1.8, 2.2, \n .     4.1, 0, 0.2, 2.3, 0.1, 2.7, 0.1, 2.7)), row.names = c(NA, \n . -77L), .Names = c(\"Country\", \"Country\", \"Value\"), class = \"data.frame\"), \n .     na.rm = TRUE)",
      "2. lapply(args, function(x) {\n .     x <- as.matrix(x)\n .     if (!is.numeric(x) && !is.complex(x)) \n .         stop(\"only defined on a data frame with all numeric variables\")\n .     x\n . })",
      "3. FUN(X[[i]], ...)",
      "4. stop(\"only defined on a data frame with all numeric variables\")"
     ]
    }
   ],
   "source": [
    "sum(oecd1, oecd2, na.rm = TRUE)"
   ]
  },
  {
   "cell_type": "markdown",
   "metadata": {},
   "source": [
    "No differences!\n",
    "\n",
    "End of Notebook"
   ]
  }
 ],
 "metadata": {
  "anaconda-cloud": {},
  "kernelspec": {
   "display_name": "R",
   "language": "R",
   "name": "ir"
  },
  "language_info": {
   "codemirror_mode": "r",
   "file_extension": ".r",
   "mimetype": "text/x-r-source",
   "name": "R",
   "pygments_lexer": "r",
   "version": "3.4.3"
  }
 },
 "nbformat": 4,
 "nbformat_minor": 1
}
